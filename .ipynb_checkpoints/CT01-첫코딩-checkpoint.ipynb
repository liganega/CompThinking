{
 "cells": [
  {
   "cell_type": "markdown",
   "metadata": {},
   "source": [
    "# 1. 처음으로 하는 코딩"
   ]
  },
  {
   "cell_type": "markdown",
   "metadata": {},
   "source": [
    "프로그래밍을 스스로 할줄 알면, 우선\n",
    "컴퓨터를 단순히 사용하는 것을 넘어 제어하는 방법을 배우게 된다. \n",
    "또한\n",
    "프로그래밍을 할 수록 더 창의적이 되며, 더 정확하게 생각하게 되고, 문제를 논리적으로 분석하고 해결하는 능력도 배양하게 된다. \n",
    "\n",
    "그런데 프로그래밍을 하려면 어떻게 해야 하는가? \n",
    "카카오톡, 트위터, 페이스북과 같은 소프트웨어를 구현하려면 무엇을 어떻게 배워야 하는가? \n",
    "\n",
    "물론 처음부터 그러한 위대한 소프트웨어를 프로그래밍할 수는 없다. \n",
    "하지만 그러한 소프트웨어를 구현하기 위해서는 프로그래밍을 제대로 할 수 있어야 한다는 사실은 너무나도 자명하다. \n",
    "결국, 프로그래밍을 먼저 배워야 한다. \n",
    "쉽고 간단한 것부터 시작해보자."
   ]
  },
  {
   "cell_type": "markdown",
   "metadata": {},
   "source": [
    "먼저, 아래 파이썬 코드를 읽어 보면서 아래 코드의 의미, 즉\n",
    "아래 코드를 실행하면 어떤 일을 하는지 알아본다.\n",
    "찬찬히 읽으면 파이썬 언어를 전혀 모른다 해도 코드가 하는 일을 이해할 수 있다.\n",
    "\n",
    "---\n",
    "```python\n",
    "print(\"안녕하세요.\")\n",
    "g = input(\"숫자를 맞추세요! \")\n",
    "guess = int(g)\n",
    "if guess == 5:\n",
    "    print(\"맞았어요!\")\n",
    "else:\n",
    "    print(\"틀렸어요!\")\n",
    "print(\"게임 종료!\")\n",
    "```\n",
    "\n",
    "---"
   ]
  },
  {
   "cell_type": "markdown",
   "metadata": {},
   "source": [
    "__코드설명__\n",
    "\n",
    "* 위 코드는 숫자 5를 맞추는 게임이다.\n",
    "* 참여자가 임의의 숫자를 입력하여 숫자 5를 맞추면 \"You win\"을,\n",
    "    아니면 \"You lose!\"를 출력한다. \n",
    "* `if`, `else`는 파이썬 키워드, \n",
    "* `g`, `guess`는 변수,\n",
    "* `print`, `input`, `int`는 함수이다.\n",
    "* 이중에 아마도 `int`의 의미만 불확실할 것이며 다른 것들은 의미가 명확하다. (`int` 함수의 의미는 나중에 배운다.)"
   ]
  },
  {
   "cell_type": "markdown",
   "metadata": {},
   "source": [
    "## 1.1 파이썬 프로그램 실행하기"
   ]
  },
  {
   "cell_type": "markdown",
   "metadata": {},
   "source": [
    "### 파이썬 코드 실행하기\n",
    "\n",
    "파이썬 언어를 컴퓨터 CPU가 바로 이해하지는 못하며, 파이썬 해석기가 그 역할을 대신한다.\n",
    "그러면 컴퓨터 CPU가 해석기에 의해 전달된 명령을 실행한다.\n",
    "\n",
    "예를 들어 \"안녕하세요.\" 라는 문장을 컴퓨터 화면에 출력하고 싶으로 아래와 같이 명령을 내리고 실행하면 된다."
   ]
  },
  {
   "cell_type": "code",
   "execution_count": 5,
   "metadata": {},
   "outputs": [
    {
     "name": "stdout",
     "output_type": "stream",
     "text": [
      "안녕하세요.\n"
     ]
    }
   ],
   "source": [
    "print(\"안녕하세요.\")"
   ]
  },
  {
   "cell_type": "markdown",
   "metadata": {},
   "source": [
    "반면에 사용자로부터 어떤 값을 입력받아서 저장하고 싶으면 아래와 같이 명령을 내리고 실행하면 된다."
   ]
  },
  {
   "cell_type": "code",
   "execution_count": 6,
   "metadata": {},
   "outputs": [
    {
     "name": "stdout",
     "output_type": "stream",
     "text": [
      "숫자를 맞추세요! 5\n"
     ]
    }
   ],
   "source": [
    "g = input(\"숫자를 맞추세요! \")"
   ]
  },
  {
   "cell_type": "markdown",
   "metadata": {},
   "source": [
    "#### 주의사항\n",
    "\n",
    "* `input` 명령어는 키보드를 이용하여 임의의 값을 입력받는 기능을 수행한다. \n",
    "    위 코드에서 변수 `g`는 `input` 명령에 의해 입력된 값이 저장된다.\n",
    "\n",
    "* `input` 명령문 안쪽에 사용된 문장인 \"숫자를 맞추세요! \"는 사용자에게 입력할 값을 설명하는 데에 사용된다. \n",
    "사용 용도에 따라 적당한 문장을 사용하면 된다."
   ]
  },
  {
   "cell_type": "markdown",
   "metadata": {},
   "source": [
    "### 문자열이란?"
   ]
  },
  {
   "cell_type": "markdown",
   "metadata": {},
   "source": [
    "`input`에 의해 저장된 값은 모두 문자열로 처리해서 저장된다.\n",
    "따라서 숫자 5을 입력하다라도 숫자가 아닌 문자열 `'5'`가 변수 `g`에 저장된다.\n",
    "숫자 5와 문자열 `'5'` 서로 다르다고 파이썬은 판단한다."
   ]
  },
  {
   "cell_type": "markdown",
   "metadata": {},
   "source": [
    "실제로 `g`에 할당된 값을 확인해도 문자열 `'5'`이 보여진다."
   ]
  },
  {
   "cell_type": "code",
   "execution_count": 7,
   "metadata": {},
   "outputs": [
    {
     "data": {
      "text/plain": [
       "'5'"
      ]
     },
     "execution_count": 7,
     "metadata": {},
     "output_type": "execute_result"
    }
   ],
   "source": [
    "g"
   ]
  },
  {
   "cell_type": "markdown",
   "metadata": {},
   "source": [
    "#### 값 비교하기\n",
    "\n",
    "두 개의 값의 동일여부를 비교하려면 `=` 대신에 `==`를 사용해야 한다.\n",
    "예를 들어 아래와 같이 한 개의 등호를 사용하면 오류가 발생한다."
   ]
  },
  {
   "cell_type": "code",
   "execution_count": 15,
   "metadata": {},
   "outputs": [
    {
     "ename": "SyntaxError",
     "evalue": "can't assign to literal (<ipython-input-15-94d01cc30bd4>, line 1)",
     "output_type": "error",
     "traceback": [
      "\u001b[0;36m  File \u001b[0;32m\"<ipython-input-15-94d01cc30bd4>\"\u001b[0;36m, line \u001b[0;32m1\u001b[0m\n\u001b[0;31m    '5' = 5\u001b[0m\n\u001b[0m           ^\u001b[0m\n\u001b[0;31mSyntaxError\u001b[0m\u001b[0;31m:\u001b[0m can't assign to literal\n"
     ]
    }
   ],
   "source": [
    "'5' = 5"
   ]
  },
  {
   "cell_type": "markdown",
   "metadata": {},
   "source": [
    "이제 숫자 5와 문자열 `\"5\"`의 동일여부를 아래와 같이 확인해보자."
   ]
  },
  {
   "cell_type": "code",
   "execution_count": 8,
   "metadata": {},
   "outputs": [
    {
     "data": {
      "text/plain": [
       "False"
      ]
     },
     "execution_count": 8,
     "metadata": {},
     "output_type": "execute_result"
    }
   ],
   "source": [
    "'5' == 5"
   ]
  },
  {
   "cell_type": "markdown",
   "metadata": {},
   "source": [
    "결과가 `False`인 이유는 앞서 설명한 대로 문자열과 파이썬은 서로 비교할 수 없다고 판단하기 때문이다. \n",
    "결과적으로 변수 `g`와 숫자 5를 비교해도 틀리다고 확인해준다."
   ]
  },
  {
   "cell_type": "code",
   "execution_count": 9,
   "metadata": {},
   "outputs": [
    {
     "data": {
      "text/plain": [
       "False"
      ]
     },
     "execution_count": 9,
     "metadata": {},
     "output_type": "execute_result"
    }
   ],
   "source": [
    "g == 5"
   ]
  },
  {
   "cell_type": "markdown",
   "metadata": {},
   "source": [
    "그럼 문자열이란 무엇일까? 정의는 간단하다.\n",
    "\n",
    "문자열은 키보드로 만들 수 있는 기호들의 나열이다.\n",
    "또한 파이썬 해석기는 문자열을 단순한 기호들의 나열로 처리하며, 어떠한 의미도 부여하지 않는다.\n",
    "예를 들어 문자열 `'1+1'`은 기호 `1`, `+`, `1` 세 개가 차례대로 나열된 대상을 나타낼 뿐이며 숫자 2와는 아무런 상관이 없다. "
   ]
  },
  {
   "cell_type": "code",
   "execution_count": 16,
   "metadata": {},
   "outputs": [
    {
     "data": {
      "text/plain": [
       "False"
      ]
     },
     "execution_count": 16,
     "metadata": {},
     "output_type": "execute_result"
    }
   ],
   "source": [
    "'1+1' == 2"
   ]
  },
  {
   "cell_type": "markdown",
   "metadata": {},
   "source": [
    "이제 앞서 문자열 `5`와 숫자 5를 비교했을 때 `False`로 판명되는 이유를 이해할 수 있을 것이다."
   ]
  },
  {
   "cell_type": "markdown",
   "metadata": {},
   "source": [
    "#### 숫자들로 이루어진 문자열을 진짜 숫자로 변환하기"
   ]
  },
  {
   "cell_type": "markdown",
   "metadata": {},
   "source": [
    "문자열과 정수는 문법적으로 서로 다르다고 설명하였다. \n",
    "따라서, `input`을 이용하여 입력된 값을 정수 `5`와 비교하려면 입력된 값을 진짜 정수로 변환해야 한다. \n",
    "파이썬은 이를 위해 `int` 명령어를 제공한다.\n",
    "\n",
    "아래와 같이 변수 `g`에 저장된 값을 정수로 변환하여 `guess` 변수에 저장하면 `guess`에는 입력된 숫자가 정수로 저장된다."
   ]
  },
  {
   "cell_type": "code",
   "execution_count": 10,
   "metadata": {},
   "outputs": [],
   "source": [
    "guess = int(g)"
   ]
  },
  {
   "cell_type": "markdown",
   "metadata": {},
   "source": [
    "여기까지 실행하고 `guess` 변수에 할당된 값을 확인하면 앞서 입력한 값을 확인할 수 있다."
   ]
  },
  {
   "cell_type": "code",
   "execution_count": 12,
   "metadata": {},
   "outputs": [
    {
     "data": {
      "text/plain": [
       "True"
      ]
     },
     "execution_count": 12,
     "metadata": {},
     "output_type": "execute_result"
    }
   ],
   "source": [
    "guess == 5"
   ]
  },
  {
   "cell_type": "markdown",
   "metadata": {},
   "source": [
    "#### 주의사항\n",
    "`int` 함수는 정수로만 구성된 입력값만 처리한다. 다른 모양의 값이 입력되면 오류가 발생한다.\n",
    "\n",
    "아래 코드를 실행하면 오류가 발생한다. 여기서는 일단 오류가 발생한다는 사실만 기억하면 된다.\n",
    "오류가 발생하면서 생성되는 경고문은 무시하도록 하자."
   ]
  },
  {
   "cell_type": "code",
   "execution_count": 17,
   "metadata": {},
   "outputs": [
    {
     "ename": "ValueError",
     "evalue": "invalid literal for int() with base 10: '11.3'",
     "output_type": "error",
     "traceback": [
      "\u001b[0;31m---------------------------------------------------------------------------\u001b[0m",
      "\u001b[0;31mValueError\u001b[0m                                Traceback (most recent call last)",
      "\u001b[0;32m<ipython-input-17-32ddafc43037>\u001b[0m in \u001b[0;36m<module>\u001b[0;34m()\u001b[0m\n\u001b[0;32m----> 1\u001b[0;31m \u001b[0mint\u001b[0m\u001b[0;34m(\u001b[0m\u001b[0;34m\"11.3\"\u001b[0m\u001b[0;34m)\u001b[0m\u001b[0;34m\u001b[0m\u001b[0m\n\u001b[0m",
      "\u001b[0;31mValueError\u001b[0m: invalid literal for int() with base 10: '11.3'"
     ]
    }
   ],
   "source": [
    "int(\"11.3\")"
   ]
  },
  {
   "cell_type": "code",
   "execution_count": 18,
   "metadata": {},
   "outputs": [
    {
     "ename": "ValueError",
     "evalue": "invalid literal for int() with base 10: 'abc'",
     "output_type": "error",
     "traceback": [
      "\u001b[0;31m---------------------------------------------------------------------------\u001b[0m",
      "\u001b[0;31mValueError\u001b[0m                                Traceback (most recent call last)",
      "\u001b[0;32m<ipython-input-18-2dda1cc00c48>\u001b[0m in \u001b[0;36m<module>\u001b[0;34m()\u001b[0m\n\u001b[0;32m----> 1\u001b[0;31m \u001b[0mint\u001b[0m\u001b[0;34m(\u001b[0m\u001b[0;34m\"abc\"\u001b[0m\u001b[0;34m)\u001b[0m\u001b[0;34m\u001b[0m\u001b[0m\n\u001b[0m",
      "\u001b[0;31mValueError\u001b[0m: invalid literal for int() with base 10: 'abc'"
     ]
    }
   ],
   "source": [
    "int(\"abc\")"
   ]
  },
  {
   "cell_type": "markdown",
   "metadata": {},
   "source": [
    "## 1.2 프로그램 구현 과정"
   ]
  },
  {
   "cell_type": "markdown",
   "metadata": {},
   "source": [
    "이제 앞서 언급한 프로그램을 작성하기 위해 밟아야 하는 과정을 설명하고자 한다."
   ]
  },
  {
   "cell_type": "markdown",
   "metadata": {},
   "source": [
    "### 프로그램 구상하기\n",
    "\n",
    "만들고자 하는 프로그램을 먼저 구상해야 하며, 이를 위해 컴퓨팅 사고력이 요구된다.\n",
    "프로그램을 구상하는 과정은 크게 두 가지로 나뉘어진다.\n",
    "\n",
    "첫째, 프로그램의 목표를 확인한다. \n",
    "둘째, 프로그램 구현에 필요한 요소들을 확인한다.\n",
    "\n",
    "예를 들어, 숫자 맞추기 게임을 구현하고자 한다면 목표와 필요 요소는 아래와 같다.\n",
    "\n",
    "* 목표: 숫자 맞추기 게임 개발\n",
    "* 게임 구현 필요 요소\n",
    "    * 사용자로부터 입력 받아 저장하는 수단: `input` 함수 활용\n",
    "    * 두 개의 숫자를 비교하는 수단: 동일 값 여부 비교(`==`) 불리언 연산자 활용\n",
    "    * 판단을 하고 판단 결과에 따라 다른 일을 하도록 하는 수단: `if ... else ...` 명령문 활용\n",
    "    * 출력 수단: `print` 함수 활용"
   ]
  },
  {
   "cell_type": "markdown",
   "metadata": {},
   "source": [
    "## 1.3 숫자 맞추기 게임 구현하기"
   ]
  },
  {
   "cell_type": "markdown",
   "metadata": {},
   "source": [
    "앞서 언급한 \"숫자 맞추기 게임\"의 필수요소를 적절히 활용하여 배치해야 하며, 이를 위해 컴퓨팅 사고가 필요하다. \n",
    "아래 코드는 앞서 언급한 코드와 동일하다.\n",
    "다만 각각의 명령문이 왜 그곳에 위치하였는가를 앞서 언급한 필수 요소를 주석으로 함께 표시하고 있을 뿐이다."
   ]
  },
  {
   "cell_type": "markdown",
   "metadata": {},
   "source": [
    "#### 주의사항\n",
    "\n",
    "* 주석은 프로그램 중간중간에 설명을 위해 추가된 문장을 의미한다.\n",
    "* 주석은 파이썬 해석기에 의해 무시된다. 즉, 실행에 아무런 영향을 끼치지 않는다."
   ]
  },
  {
   "cell_type": "code",
   "execution_count": 21,
   "metadata": {},
   "outputs": [
    {
     "name": "stdout",
     "output_type": "stream",
     "text": [
      "안녕하세요.\n",
      "숫자를 맞추세요! 3\n",
      "틀렸어요!\n",
      "게임 종료!\n"
     ]
    }
   ],
   "source": [
    "# 환영인사 출력\n",
    "print(\"안녕하세요.\")\n",
    "\n",
    "# 사용자로부터 값 입력받기\n",
    "g = input(\"숫자를 맞추세요! \")\n",
    "guess = int(g)\n",
    "\n",
    "# 값을 비교하여 결과에 따라 다른 명령문 실행하기\n",
    "if guess == 5:\n",
    "    print(\"맞았어요!\")\n",
    "else:\n",
    "    print(\"틀렸어요!\")\n",
    "    \n",
    "# 종료 확인 출력    \n",
    "print(\"게임 종료!\")"
   ]
  },
  {
   "cell_type": "markdown",
   "metadata": {},
   "source": [
    "### 스크래치 코딩\n",
    "\n",
    "아래 그림은 [스크래치](https://scratch.mit.edu)에서 작성한 프로그램이며 \n",
    "앞서 언급한 파이썬 코드와 동일한 기능을 수행한다.\n",
    "\n",
    "#### 주의사항\n",
    "* 스크래치에서는 `int` 명령문을 사용할 필요가 없다. 즉, 숫자를 입력하면 바로 숫자로 처리한다."
   ]
  },
  {
   "cell_type": "markdown",
   "metadata": {},
   "source": [
    "<p>\n",
    "<table cellspacing=\"20\">\n",
    "<tr>\n",
    "<td>\n",
    "<img src=\"images/scratch-guess01.png\" style=\"width:400px\">\n",
    "</td>\n",
    "</tr>\n",
    "</table>\n",
    "</p>"
   ]
  },
  {
   "cell_type": "markdown",
   "metadata": {},
   "source": [
    "### 프로그램 수준 높이기 1\n",
    "\n",
    "앞서 사용한 \"숫자 맞추기 게임\" 코드는 사용자에게 불공평한 게임을 제공한다. \n",
    "맞춰야 하는 숫자에 대한 아무런 정보를 주지 않기 때문이다.\n",
    "형평성을 높이기 위해 사용자가 입력한 값이 맞추어야 하는 숫자와 비교해서 \n",
    "큰지, 작은지, 같은지 여부를 알려줄 수 있도록 프로그램을 작성하면 아래와 같다.\n",
    "\n",
    "예를 들어, 3을 입력하면 \"너무 작아요!\"를, \n",
    "7을 입력하면 \"너무 커요!\"를 화면에 출력하게 된다."
   ]
  },
  {
   "cell_type": "code",
   "execution_count": 22,
   "metadata": {},
   "outputs": [
    {
     "name": "stdout",
     "output_type": "stream",
     "text": [
      "안녕하세요.\n",
      "숫자를 맞추세요! 3\n",
      "너무 작아요\n",
      "게임 종료!\n"
     ]
    }
   ],
   "source": [
    "print(\"안녕하세요.\")\n",
    "g = input(\"숫자를 맞추세요! \")\n",
    "guess = int(g)\n",
    "if guess == 5:\n",
    "    print(\"맞았어요!\")\n",
    "else:\n",
    "    if guess > 5:\n",
    "        print(\"너무 커요\")\n",
    "    else:\n",
    "        print(\"너무 작아요\")\n",
    "print(\"게임 종료!\")"
   ]
  },
  {
   "cell_type": "code",
   "execution_count": 23,
   "metadata": {},
   "outputs": [
    {
     "name": "stdout",
     "output_type": "stream",
     "text": [
      "안녕하세요.\n",
      "숫자를 맞추세요! 7\n",
      "너무 커요\n",
      "게임 종료!\n"
     ]
    }
   ],
   "source": [
    "print(\"안녕하세요.\")\n",
    "g = input(\"숫자를 맞추세요! \")\n",
    "guess = int(g)\n",
    "if guess == 5:\n",
    "    print(\"맞았어요!\")\n",
    "else:\n",
    "    if guess > 5:\n",
    "        print(\"너무 커요\")\n",
    "    else:\n",
    "        print(\"너무 작아요\")\n",
    "print(\"게임 종료!\")"
   ]
  },
  {
   "cell_type": "markdown",
   "metadata": {},
   "source": [
    "__주의사항: 들여쓰기__\n",
    "\n",
    "* 파이썬에서는 들여쓰기가 선택사항이 아니다.\n",
    "* 위 코드에서 5번 줄은 `if`문의 본체이므로 반드시 한 번 들여쓰기를 해야 한다.\n",
    "* 7번, 9번 줄도 `else`문의 본체이므로 동일하게 들여쓰기를 해야 한다.\n",
    "* 반면에 8번 줄의 경우 중첩된 `if` 문의 본체이므로 들여쓰기를 두 번 해야한다.\n",
    "* 10번 줄도 동일한 규칙이 적용된다.\n",
    "* `if`, `else`, `while`, `for` 문은 기본적으로 콜론(`:`)을 문장 끝에 사용해야 하고 본체는 들여 써야 한다.\n",
    "* 들여쓰기는 기본적으로 탭키를 이용한다."
   ]
  },
  {
   "cell_type": "markdown",
   "metadata": {},
   "source": [
    "### 스크래치 코딩\n",
    "\n",
    "아래 그림은 스크래치에서 작성한 프로그램이며 \n",
    "앞서 언급한 파이썬 코드와 동일한 기능을 수행한다."
   ]
  },
  {
   "cell_type": "markdown",
   "metadata": {},
   "source": [
    "<p>\n",
    "<table cellspacing=\"20\">\n",
    "<tr>\n",
    "<td>\n",
    "<img src=\"images/scratch-guess02.png\" style=\"width:400px\">\n",
    "</td>\n",
    "</tr>\n",
    "</table>\n",
    "</p>"
   ]
  },
  {
   "cell_type": "markdown",
   "metadata": {},
   "source": [
    "### 프로그램 수준 높이기 2\n",
    "\n",
    "바로 위에서 수정한 코드는 원래 코드보다 형평성을 좀 더 보장한다.\n",
    "그런데 추측한 값이 틀려도 게임이 바로 종료된다.\n",
    "새로운 추측을 하려면 게임을 다시 실행시켜야 해서 불편하다.\n",
    "답을 맞출 때까지 게임이 반복되도록 코드를 수정해보자.\n",
    "\n",
    "__힌트:__  `while` 명령문을 이용하면 된다."
   ]
  },
  {
   "cell_type": "markdown",
   "metadata": {},
   "source": [
    "#### `while` 명령문\n",
    "\n",
    "`while` 명령문은 특정 조건이 성립하는 조건에서 본체 부분에 지정된 코드를 반복해서 실행하기 위해 사용되며,\n",
    "아래와 같은 모양을 갖는다.\n",
    "\n",
    "```python\n",
    "while 조건문:\n",
    "    본체\n",
    "```\n",
    "\n",
    "* 조건문: 참(`True`)과 거짓(`False`)으로 판별될 수 있는 문장 의미\n",
    "* 본체: 임의의 파이썬 코드가 사용됨\n",
    "    * 반드시 들여쓰기를 사용해야 함\n",
    "\n",
    "이제 우리가 원하는 대로 `while` 문을 작성하기 위해서는 조건문과 본체에 들어갈 코드를 선택해야 하며,\n",
    "여기서도 컴퓨팅 사고가 요구된다.\n",
    "\n",
    "* 조건문 선택 기준: 동일한 일을 어떤 조건하에서 반복할지 판단해야 함.\n",
    "* 본체 선택 기준: 무슨 일을 반복할 것인지 판단해야 함.\n",
    "\n",
    "숫자 맞추기 게임의 경우 본체와 조건문을 아래와 같이 지정할 수 있다.\n",
    "\n",
    "* 조건문: 선택된 숫자가 정수 5와 다르다는 조건. 그래야만 새로운 숫자를 선택할 수 있기 때문.\n",
    "* 본체: 숫자를 선택하고 선택된 숫자를 정수 5와 비교하여 이겼다, 너무 크다, 너무 작다를 판단하는 일.\n",
    "\n",
    "따라서 아래와 같이 `while` 명령문을 이용하여 코드를 작성할 수 있다."
   ]
  },
  {
   "cell_type": "code",
   "execution_count": 24,
   "metadata": {},
   "outputs": [
    {
     "name": "stdout",
     "output_type": "stream",
     "text": [
      "안녕하세요.\n",
      "숫자를 맞추세요! 3\n",
      "너무 작아요\n",
      "숫자를 맞추세요! 7\n",
      "너무 커요\n",
      "숫자를 맞추세요! 5\n",
      "맞았어요!\n",
      "게임 종료!\n"
     ]
    }
   ],
   "source": [
    "print(\"안녕하세요.\")\n",
    "guess = 0\n",
    "\n",
    "while guess != 5:\n",
    "    g = input(\"숫자를 맞추세요! \")\n",
    "    guess = int(g)\n",
    "    if guess == 5:\n",
    "        print(\"맞았어요!\")\n",
    "    else:\n",
    "        if guess > 5:\n",
    "            print(\"너무 커요\")\n",
    "        else:\n",
    "            print(\"너무 작아요\")\n",
    "\n",
    "print(\"게임 종료!\")"
   ]
  },
  {
   "cell_type": "markdown",
   "metadata": {},
   "source": [
    "__주의사항:__\n",
    "\n",
    "* 위 코드에서 2번 줄에서 `guess` 변수를 초기화 하는 과정이 필요함에 주의한다. 이 과정이 있어야 `while` 문의 본체가 실행된다.\n",
    "    `while` 조건문에서 `guess` 변수의 값을 확인하려면 `guess` 변수가 이미 선언되어 있어야 하기 때문이다.\n",
    "* `guess`를 0으로 초기화 한 이유는 `while`문의 본체가 최소 1번 이상 실행되도록 하기 위함이다. \n",
    "    이유는 맞추어야 하는 수가 절대로 0이 아니기 때문이다.\n"
   ]
  },
  {
   "cell_type": "markdown",
   "metadata": {},
   "source": [
    "### 스크래치 코딩\n",
    "\n",
    "아래 그림은 스크래치에서 작성한 프로그램이며 \n",
    "앞서 언급한 파이썬 코드와 동일한 기능을 수행한다."
   ]
  },
  {
   "cell_type": "markdown",
   "metadata": {},
   "source": [
    "<p>\n",
    "<table cellspacing=\"20\">\n",
    "<tr>\n",
    "<td>\n",
    "<img src=\"images/scratch-guess03.png\" style=\"width:400px\">\n",
    "</td>\n",
    "</tr>\n",
    "</table>\n",
    "</p>"
   ]
  },
  {
   "cell_type": "markdown",
   "metadata": {},
   "source": [
    "### 프로그램 수준 높이기 3\n",
    "\n",
    "앞서 '프로그램 수준 높이기 2'에서 개선한 코드는 상당히 훌륭하다. \n",
    "사용자가 숨은 값을 맞출 수 있도록 유도하며, 숫자 5를 맞추어야만 종료된다.\n",
    "\n",
    "그런데 위 게임은 한 번 하면 더 이상 사용하지 않는다. \n",
    "맞추어야 하는 숫자가 항상 5이기 때문이다.\n",
    "따라서 위 게임을 좀 더 흥미롭게 만들기 위해서 맞추어야 하는 숫자를 게임이 실행될 때마다 임의로 변하도록 바꿀 필요가 있다.\n",
    "파이썬에서 정수 숫자를 임의로 생성하는 `randint` 라는 명령문을 이용할 수 있다.\n",
    "\n",
    "나머지 과정은 앞서의 코드와 동일하다. 다만, 정수 `5` 대신에 `randint`가 임의로 생성하는 값을 기억해 두고 \n",
    "그것을 맞추는 게임이 되도록 코드 일부만 수정하면 된다.\n",
    "아래 코드에서는 숫자 `5` 대신에 `secret` 이란 변수가 임의로 생성되어 맞추어야 하는 숫자를 담는 그릇 역할을 수행한다.\n",
    "\n",
    "__주의사항:__\n",
    "* `randint` 명령문은 두 개의 정수를 지정하면 두 정수를 양끝으로 갖는 구간에서 임의의 값을 지정한다.\n",
    "    예를 들어, 1부터 9사이의 정수 중에서 임의의 값을 선택하려면 `randint(1, 9)`이라 작성하면 된다.\n",
    "* 그런데 `randint`를 사용하기 위해서는 먼저 아래 명령문을 실행해야 한다."
   ]
  },
  {
   "cell_type": "code",
   "execution_count": 1,
   "metadata": {},
   "outputs": [],
   "source": [
    "from random import randint"
   ]
  },
  {
   "cell_type": "code",
   "execution_count": 18,
   "metadata": {},
   "outputs": [
    {
     "data": {
      "text/plain": [
       "5"
      ]
     },
     "execution_count": 18,
     "metadata": {},
     "output_type": "execute_result"
    }
   ],
   "source": [
    "secret = randint(1, 9)\n",
    "secret            "
   ]
  },
  {
   "cell_type": "markdown",
   "metadata": {},
   "source": [
    "`rantint` 명령문은 실행될 때마다 다른 값을 생성한다."
   ]
  },
  {
   "cell_type": "code",
   "execution_count": 19,
   "metadata": {},
   "outputs": [
    {
     "data": {
      "text/plain": [
       "3"
      ]
     },
     "execution_count": 19,
     "metadata": {},
     "output_type": "execute_result"
    }
   ],
   "source": [
    "secret = randint(1, 9)\n",
    "secret            "
   ]
  },
  {
   "cell_type": "code",
   "execution_count": 20,
   "metadata": {},
   "outputs": [
    {
     "data": {
      "text/plain": [
       "5"
      ]
     },
     "execution_count": 20,
     "metadata": {},
     "output_type": "execute_result"
    }
   ],
   "source": [
    "secret = randint(1, 9)\n",
    "secret            "
   ]
  },
  {
   "cell_type": "markdown",
   "metadata": {},
   "source": [
    "이제 수준 높은 \"숫자 맞추기 게임\"을 구현할 수 있다."
   ]
  },
  {
   "cell_type": "code",
   "execution_count": 23,
   "metadata": {},
   "outputs": [
    {
     "name": "stdout",
     "output_type": "stream",
     "text": [
      "안녕하세요.\n",
      "숫자를 맞추세요! 3\n",
      "너무 작아요\n",
      "숫자를 맞추세요! 8\n",
      "너무 작아요\n",
      "숫자를 맞추세요! 9\n",
      "맞았어요!\n",
      "게임 종료!\n"
     ]
    }
   ],
   "source": [
    "from random import randint\n",
    "\n",
    "print(\"안녕하세요.\")\n",
    "secret = randint(1, 9)\n",
    "guess = 0\n",
    "\n",
    "while guess != secret:\n",
    "    g = input(\"숫자를 맞추세요! \")\n",
    "    guess = int(g)\n",
    "    if guess == secret:\n",
    "        print(\"맞았어요!\")\n",
    "    else:\n",
    "        if guess > secret:\n",
    "            print(\"너무 커요\")\n",
    "        else:\n",
    "            print(\"너무 작아요\")\n",
    "\n",
    "print(\"게임 종료!\")"
   ]
  },
  {
   "cell_type": "markdown",
   "metadata": {},
   "source": [
    "### 스크래치 코딩\n",
    "\n",
    "아래 그림은 스크래치에서 작성한 프로그램이며 \n",
    "앞서 언급한 파이썬 코드와 동일한 기능을 수행한다.\n",
    "\n",
    "아래 코드가 스크래치에서 어떻게 작동하는가는 아래 링크에서 확인할 수 있다.\n",
    "\n",
    "숫자 맞추기 게임 1: https://scratch.mit.edu/projects/246895261/#editor"
   ]
  },
  {
   "cell_type": "markdown",
   "metadata": {},
   "source": [
    "<p>\n",
    "<table cellspacing=\"20\">\n",
    "<tr>\n",
    "<td>\n",
    "<img src=\"images/scratch-guess04.png\" style=\"width:400px\">\n",
    "</td>\n",
    "</tr>\n",
    "</table>\n",
    "</p>"
   ]
  }
 ],
 "metadata": {
  "kernelspec": {
   "display_name": "Python 3",
   "language": "python",
   "name": "python3"
  },
  "language_info": {
   "codemirror_mode": {
    "name": "ipython",
    "version": 3
   },
   "file_extension": ".py",
   "mimetype": "text/x-python",
   "name": "python",
   "nbconvert_exporter": "python",
   "pygments_lexer": "ipython3",
   "version": "3.6.3"
  }
 },
 "nbformat": 4,
 "nbformat_minor": 1
}
