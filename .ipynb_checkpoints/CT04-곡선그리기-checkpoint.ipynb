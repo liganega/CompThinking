{
 "cells": [
  {
   "cell_type": "markdown",
   "metadata": {},
   "source": [
    "#### 준비사항\n",
    "\n",
    "파이썬 프로그램을 에디터에서 작성하여 실행하는 방법은 아래 링크에 연결된 사이트에서 자세히 알아볼 수 있다.\n",
    "\n",
    "점프 투 파이썬: https://wikidocs.net/17684"
   ]
  },
  {
   "cell_type": "markdown",
   "metadata": {},
   "source": [
    "# 곡선 그리기"
   ]
  },
  {
   "cell_type": "markdown",
   "metadata": {},
   "source": [
    "기본적으로 전진과 회전만을 수행하는 거북이를 활용하여 원, 나선형, 꽃잎 등 곡선이 포함된 그림을 그리는\n",
    "방법을 다룬다. \n",
    "또한 `while` 반복문과 함수를 효율적으로 활용하는 방법을 소개한다."
   ]
  },
  {
   "cell_type": "markdown",
   "metadata": {},
   "source": [
    "## 원 그리기"
   ]
  },
  {
   "cell_type": "markdown",
   "metadata": {},
   "source": [
    "아래 코드는 전진과 회전을 이용하여 `n`각형을 그리는 코드이다.\n",
    "이전 코드와의 차이점은 전진하는 길이를 `n`에 의존하게 만들었다는 점이다.\n",
    "이유는 `n`이 커질 수록 다각형이 화면에서 너무 커지지 않도록 하기 위함이다."
   ]
  },
  {
   "cell_type": "markdown",
   "metadata": {},
   "source": [
    "---\n",
    "```python\n",
    "import turtle\n",
    "\n",
    "win = turtle.Screen()\n",
    "tuti = turtle.Turtle()\n",
    "\n",
    "# polygon 함수 정의\n",
    "def polygon(n):\n",
    "    i = 0\n",
    "\n",
    "    while i < n:\n",
    "        tuti.forward(1000/n)      # 전진 길이를 n에 의존하게 만듦\n",
    "        tuti.left(360/n)\n",
    "        i = i + 1\n",
    "\n",
    "win.mainloop()\n",
    "```\n",
    "---"
   ]
  },
  {
   "cell_type": "markdown",
   "metadata": {},
   "source": [
    "이제 위 코드에 `polygon(100)`을 아래와 같이 밑에서 두번 째 줄어 추가하여 실행해 보자."
   ]
  },
  {
   "cell_type": "markdown",
   "metadata": {},
   "source": [
    "---\n",
    "```python\n",
    "import turtle\n",
    "\n",
    "win = turtle.Screen()\n",
    "tuti = turtle.Turtle()\n",
    "\n",
    "# polygon 함수 정의\n",
    "def polygon(n):\n",
    "    i = 0\n",
    "\n",
    "    while i < n:\n",
    "        tuti.forward(1000/n)      # 전진 길이를 n에 의존하게 만듦\n",
    "        tuti.left(360/n)\n",
    "        i = i + 1\n",
    "\n",
    "polygon(100)\n",
    "\n",
    "win.mainloop()\n",
    "```\n",
    "---"
   ]
  },
  {
   "cell_type": "markdown",
   "metadata": {},
   "source": [
    "그러면 거북이는 1000각형을 그리지만 우리 눈에는 원으로 보인다.\n",
    "실제로 거북이는 1000/1000 = 1 픽셀씩 전진하는 과정과 360/1000 = 0.36도씩 회전하는 과정을 1000번 반복한다."
   ]
  },
  {
   "cell_type": "markdown",
   "metadata": {},
   "source": [
    "<p>\n",
    "<table cellspacing=\"20\">\n",
    "<tr>\n",
    "<td>\n",
    "<img src=\"images/polygon07.png\">\n",
    "</td>\n",
    "</tr>\n",
    "</table>\n",
    "</p>"
   ]
  },
  {
   "cell_type": "markdown",
   "metadata": {},
   "source": [
    "앞선 예제는 전진과 회전만을 할줄 아는 거북이가 어떻게 원을 그리는지를 정확하게 알려준다."
   ]
  }
 ],
 "metadata": {
  "kernelspec": {
   "display_name": "Python 3",
   "language": "python",
   "name": "python3"
  },
  "language_info": {
   "codemirror_mode": {
    "name": "ipython",
    "version": 3
   },
   "file_extension": ".py",
   "mimetype": "text/x-python",
   "name": "python",
   "nbconvert_exporter": "python",
   "pygments_lexer": "ipython3",
   "version": "3.6.4"
  }
 },
 "nbformat": 4,
 "nbformat_minor": 2
}
