{
 "cells": [
  {
   "cell_type": "markdown",
   "metadata": {},
   "source": [
    "#### 준비사항\n",
    "\n",
    "파이썬 프로그램을 에디터에서 작성하여 실행하는 방법은 아래 링크에 연결된 사이트에서 자세히 알아볼 수 있다.\n",
    "\n",
    "점프 투 파이썬: https://wikidocs.net/17684"
   ]
  },
  {
   "cell_type": "markdown",
   "metadata": {},
   "source": [
    "# 곡선 그리기"
   ]
  },
  {
   "cell_type": "markdown",
   "metadata": {},
   "source": [
    "기본적으로 전진과 회전만을 수행하는 거북이를 활용하여 원, 나선형, 꽃잎 등 곡선이 포함된 그림을 그리는\n",
    "방법을 다룬다. \n",
    "또한 `while` 반복문과 함수를 효율적으로 활용하는 방법을 소개한다."
   ]
  },
  {
   "cell_type": "markdown",
   "metadata": {},
   "source": [
    "## 원 그리기"
   ]
  },
  {
   "cell_type": "markdown",
   "metadata": {},
   "source": [
    "아래 코드는 전진과 회전을 이용하여 `n`각형을 그리는 코드이다.\n",
    "이전 코드와의 차이점은 전진하는 길이를 `n`에 의존하게 만들었다는 점이다.\n",
    "이유는 `n`이 커질 수록 다각형이 화면에서 너무 커지지 않도록 하기 위함이다."
   ]
  },
  {
   "cell_type": "markdown",
   "metadata": {},
   "source": [
    "---\n",
    "```python\n",
    "import turtle\n",
    "\n",
    "win = turtle.Screen()\n",
    "tuti = turtle.Turtle()\n",
    "\n",
    "# polygon 함수 정의\n",
    "def polygon(n):\n",
    "    i = 0\n",
    "\n",
    "    while i < n:\n",
    "        tuti.forward(1000/n)      # 전진 길이를 n에 의존하게 만듦\n",
    "        tuti.left(360/n)\n",
    "        i = i + 1\n",
    "\n",
    "win.mainloop()\n",
    "```\n",
    "---"
   ]
  },
  {
   "cell_type": "markdown",
   "metadata": {},
   "source": [
    "이제 위 코드에 `polygon(100)`을 아래와 같이 밑에서 두번 째 줄어 추가하여 실행해 보자."
   ]
  },
  {
   "cell_type": "markdown",
   "metadata": {},
   "source": [
    "---\n",
    "```python\n",
    "import turtle\n",
    "\n",
    "win = turtle.Screen()\n",
    "tuti = turtle.Turtle()\n",
    "\n",
    "# polygon 함수 정의\n",
    "def polygon(n):\n",
    "    i = 0\n",
    "\n",
    "    while i < n:\n",
    "        tuti.forward(1000/n)      # 전진 길이를 n에 의존하게 만듦\n",
    "        tuti.left(360/n)\n",
    "        i = i + 1\n",
    "\n",
    "polygon(100)\n",
    "\n",
    "win.mainloop()\n",
    "```\n",
    "---"
   ]
  },
  {
   "cell_type": "markdown",
   "metadata": {},
   "source": [
    "그러면 거북이는 1000각형을 그리지만 우리 눈에는 원으로 보인다.\n",
    "실제로 거북이는 1000/1000 = 1 픽셀씩 전진하는 과정과 360/1000 = 0.36도씩 회전하는 과정을 1000번 반복한다."
   ]
  },
  {
   "cell_type": "markdown",
   "metadata": {},
   "source": [
    "<p>\n",
    "<table cellspacing=\"20\">\n",
    "<tr>\n",
    "<td>\n",
    "<img src=\"images/polygon07.png\">\n",
    "</td>\n",
    "</tr>\n",
    "</table>\n",
    "</p>"
   ]
  },
  {
   "cell_type": "markdown",
   "metadata": {},
   "source": [
    "앞선 예제는 전진과 회전만을 할줄 아는 거북이가 어떻게 원을 그리는지를 정확하게 알려준다."
   ]
  },
  {
   "cell_type": "markdown",
   "metadata": {},
   "source": [
    "## 소용돌이 그리기"
   ]
  },
  {
   "cell_type": "markdown",
   "metadata": {},
   "source": [
    "소용돌이 모양은 원을 그리는 것과 비슷한 아이디어를 사용한다. \n",
    "원의 경우와는 달리 전진거리를 매 스텝마다 조금씩 키우면 된다.\n",
    "회전각도는 변경하지 않는다. \n",
    "\n",
    "아래 프로그램은 거북이가 선을 그리지 않는 대신에 일정한 간격마다 도장을 찍으면서 소용돌이를 그리는 코드이다.\n",
    "회전각도와 전전거리를 조정하여 소용돌이의 크기를 조정할 수 있다."
   ]
  },
  {
   "cell_type": "markdown",
   "metadata": {},
   "source": [
    "---\n",
    "```python\n",
    "import turtle\n",
    "\n",
    "win = turtle.Screen()\n",
    "tuti = turtle.Turtle()\n",
    "tuti.shape(\"turtle\")\n",
    "\n",
    "tuti.penup()\n",
    "tuti.stamp()\n",
    "\n",
    "### 소용돌이 그리기 ###\n",
    "# 걸음걸이: step에서 3씩 증가\n",
    "# 회전각도: angle\n",
    "# 도장찍기 반복 회수: count\n",
    "def spiral(step,angle,count):\n",
    "    i = 0\n",
    "    while i < count:\n",
    "        tuti.forward(step + 3 * i)\n",
    "        tuti.stamp()\n",
    "        tuti.right(angle)\n",
    "        i = i + 1\n",
    "\n",
    "# 첫 걸음걸이 20, 회전각도 30, 반복횟수 40을 지정하여\n",
    "# 소용돌이 그리기\n",
    "spiral(20,30,40)\n",
    "\n",
    "win.mainloop()\n",
    "```\n",
    "---"
   ]
  },
  {
   "cell_type": "markdown",
   "metadata": {},
   "source": [
    "<p>\n",
    "<table cellspacing=\"20\">\n",
    "<tr>\n",
    "<td>\n",
    "<img src=\"images/polygon08.png\">\n",
    "</td>\n",
    "</tr>\n",
    "</table>\n",
    "</p>"
   ]
  },
  {
   "cell_type": "markdown",
   "metadata": {},
   "source": [
    "## 꽃잎 그리기"
   ]
  },
  {
   "cell_type": "markdown",
   "metadata": {},
   "source": [
    "원 그리기를 응용하여 아래 모양의 꽃을 그릴 수 있다."
   ]
  },
  {
   "cell_type": "markdown",
   "metadata": {},
   "source": [
    "<p>\n",
    "<table cellspacing=\"20\">\n",
    "<tr>\n",
    "<td>\n",
    "<img src=\"images/polygon09.png\">\n",
    "</td>\n",
    "</tr>\n",
    "</table>\n",
    "</p>"
   ]
  },
  {
   "cell_type": "markdown",
   "metadata": {},
   "source": [
    "아래 프로그램은 위 꽃을 그린다. \n",
    "코드 내용은 다음과 같다.\n",
    "\n",
    "* `halfLeaf`: 꽃잎 반쪽 그리기 함수\n",
    "* `leaf`: 꽃잎 하나 그리기 함수"
   ]
  },
  {
   "cell_type": "markdown",
   "metadata": {},
   "source": [
    "---\n",
    "```python\n",
    "import turtle\n",
    "\n",
    "win = turtle.Screen()\n",
    "tuti = turtle.Turtle()\n",
    "tuti.shape(\"turtle\")\n",
    "\n",
    "angle = 1\n",
    "step = 3\n",
    "\n",
    "### 꽃잎 반쪽 그리기\n",
    "# count: 전진과 회전의 반복횟수\n",
    "# angle * count가 180보다 작아야 반쪽 꽃잎을 그린다.\n",
    "def halfLeaf(count):\n",
    "    i = 0\n",
    "    while i < count:\n",
    "        tuti.forward(step)\n",
    "        tuti.right(angle)\n",
    "        i = i + 1\n",
    "\n",
    "### 꽃잎 그리기\n",
    "# halfLeaf를 두 번 그리면 된다.\n",
    "# 대신에 한 번 그릴 때마다 방향을 반대 방향으로 돌려야 한다.\n",
    "def leaf():\n",
    "    i = 0\n",
    "    while i < 2:\n",
    "        halfLeaf(60)\n",
    "        tuti.right(180 - 60 * angle)    # 반대 방향 바라보기\n",
    "        i = i + 1\n",
    "\n",
    "### 꽃잎 6장 꽃 그리기\n",
    "# leaf 함수를 6번 사용하면 된다.\n",
    "# 꽃잎을 하나 그릴 때마다 60도 회전시켜야 한다.\n",
    "k = 0\n",
    "while k < 6:\n",
    "    leaf()\n",
    "    tuti.left(60)\n",
    "    k = k + 1\n",
    "\n",
    "win.mainloop()\n",
    "```\n",
    "---"
   ]
  },
  {
   "cell_type": "markdown",
   "metadata": {},
   "source": [
    "## 코드 정리(최종)\n",
    "\n",
    "`leaf` 함수를 이용하여 꽃을 그리는 프로세스를 `flower`라는 이름을 주어 함수로 수정하자. \n",
    "`flower` 함수는 몇 장의 꽃잎으로 구성할 것인지를 지정하는 인자를 받는 하나의 매개변수를 사용하도록 하자."
   ]
  },
  {
   "cell_type": "markdown",
   "metadata": {},
   "source": [
    "---\n",
    "```python\n",
    "import turtle\n",
    "\n",
    "win = turtle.Screen()\n",
    "tuti = turtle.Turtle()\n",
    "tuti.shape(\"turtle\")\n",
    "\n",
    "angle = 1\n",
    "step = 3\n",
    "\n",
    "### 꽃잎 반쪽 그리기\n",
    "# count: 전진과 회전의 반복횟수\n",
    "# angle * count가 180보다 작아야 반쪽 꽃잎을 그린다.\n",
    "def halfLeaf(count):\n",
    "    i = 0\n",
    "    while i < count:\n",
    "        tuti.forward(step)\n",
    "        tuti.right(angle)\n",
    "        i = i + 1\n",
    "\n",
    "### 꽃잎 그리기\n",
    "# halfLeaf를 두 번 그리면 된다.\n",
    "# 대신에 한 번 그릴 때마다 방향을 반대 방향으로 돌려야 한다.\n",
    "def leaf():\n",
    "    i = 0\n",
    "    while i < 2:\n",
    "        halfLeaf(60)\n",
    "        tuti.right(180 - 60 * angle)    # 반대 방향 바라보기\n",
    "        i = i + 1\n",
    "\n",
    "### 꽃 그리기\n",
    "# 몇 장의 꽃잎을 사용할지를 인자로 받아야 한다.\n",
    "# leaf 함수를 지정된 꽃잎의 개수 만큼 사용하면 된다.\n",
    "# 꽃잎을 하나 그릴 때마다 360/k 도 회전시켜야 한다.\n",
    "def flower(num):\n",
    "    k = 0\n",
    "    while k < num:\n",
    "        leaf()\n",
    "        tuti.left(360/num)\n",
    "        k = k + 1\n",
    "\n",
    "win.mainloop()\n",
    "```\n",
    "---"
   ]
  },
  {
   "cell_type": "markdown",
   "metadata": {},
   "source": [
    "그런데 꽃잎 반쪽을 그릴 때 angle, step, count 값에 따라 꽃잎의 모양이 달라진다.\n",
    "따라서 이 값들도 모두 매개변수로 지정하면 원하는 모양의 꽃을 손쉽게 얻을 수 있다.\n",
    "따라서 최종적으로 `halfleaf`, `leaf`, `flower` 세 함수 모두 총 네 개의 인자를 받도록 지정하도록 한다."
   ]
  },
  {
   "cell_type": "markdown",
   "metadata": {},
   "source": [
    "---\n",
    "```python\n",
    "import turtle\n",
    "\n",
    "win = turtle.Screen()\n",
    "tuti = turtle.Turtle()\n",
    "tuti.shape(\"turtle\")\n",
    "\n",
    "\n",
    "### 꽃잎 반쪽 그리기\n",
    "# count: 전진과 회전의 반복횟수\n",
    "# angle * count가 180보다 작아야 반쪽 꽃잎을 그린다.\n",
    "def halfLeaf(count, step, angle):\n",
    "    i = 0\n",
    "    while i < count:\n",
    "        tuti.forward(step)\n",
    "        tuti.right(angle)\n",
    "        i = i + 1\n",
    "\n",
    "\n",
    "### 꽃잎 그리기\n",
    "# halfLeaf를 두 번 그리면 된다.\n",
    "# 대신에 한 번 그릴 때마다 방향을 반대 방향으로 돌려야 한다.\n",
    "def leaf(count, step, angle):\n",
    "    i = 0\n",
    "    while i < 2:\n",
    "        halfLeaf(count, step, angle)\n",
    "        tuti.right(180 - count * angle)    # 반대 방향 바라보기\n",
    "        i = i + 1\n",
    "\n",
    "### 꽃잎 6장 꽃 그리기\n",
    "# leaf 함수를 6번 사용하면 된다.\n",
    "# 꽃잎을 하나 그릴 때마다 60도 회전시켜야 한다.\n",
    "def flower(num, count, step, angle):\n",
    "    k = 0\n",
    "    while k < num:\n",
    "        leaf(count, step, angle)\n",
    "        tuti.left(360/num)\n",
    "        k = k + 1\n",
    "        \n",
    "# 예를 들어, 7개의 꽃잎으로 이루어 졌으며, 6픽셀 전진(step)과 2도 회전(angle)을 60번(count) 반복하여\n",
    "# 그려진 꽃잎이 6개인 꽃은 아래 명령으로 그려진다. \n",
    "flower(6, 60, 6, 2)\n",
    "```\n",
    "---"
   ]
  },
  {
   "cell_type": "markdown",
   "metadata": {},
   "source": [
    "끝으로 `while` 반복문을 보다 간단하게 표현하는 방식을 소개한다.\n",
    "\n",
    "파이썬에서는 `for` 명령문과 `range` 함수를 활용하여 매우 간단하게 반복문을 실행할 수 있도록 하는 기능을 제공한다.\n",
    "최종 코드는 다음과 같다.\n",
    "\n",
    "아래 코드는 위 코드와 완전히 동일한 일을 한다."
   ]
  },
  {
   "cell_type": "markdown",
   "metadata": {},
   "source": [
    "---\n",
    "```python\n",
    "import turtle\n",
    "\n",
    "win = turtle.Screen()\n",
    "tuti = turtle.Turtle()\n",
    "tuti.shape(\"turtle\")\n",
    "\n",
    "\n",
    "### 꽃잎 반쪽 그리기\n",
    "# count: 전진과 회전의 반복횟수\n",
    "# angle * count가 180보다 작아야 반쪽 꽃잎을 그린다.\n",
    "def halfLeaf(count, step, angle):\n",
    "    for i in range(count):\n",
    "        tuti.forward(step)\n",
    "        tuti.right(angle)\n",
    "\n",
    "\n",
    "### 꽃잎 그리기\n",
    "# halfLeaf를 두 번 그리면 된다.\n",
    "# 대신에 한 번 그릴 때마다 방향을 반대 방향으로 돌려야 한다.\n",
    "def leaf(count, step, angle):\n",
    "    for i in range(2):\n",
    "        halfLeaf(count, step, angle)\n",
    "        tuti.right(180 - count * angle)    # 반대 방향 바라보기\n",
    "      \n",
    "\n",
    "### 꽃잎 6장 꽃 그리기\n",
    "# leaf 함수를 6번 사용하면 된다.\n",
    "# 꽃잎을 하나 그릴 때마다 60도 회전시켜야 한다.\n",
    "def flower(num, count, step, angle):\n",
    "    for k in range(num):\n",
    "        leaf(count, step, angle)\n",
    "        tuti.left(360/num)\n",
    "\n",
    "# 예를 들어, 7개의 꽃잎으로 이루어 졌으며, 6픽셀 전진(step)과 2도 회전(angle)을 60번(count) 반복하여\n",
    "# 그려진 꽃잎이 6개인 꽃은 아래 명령으로 그려진다. \n",
    "flower(6, 60, 6, 2)\n",
    "```\n",
    "---"
   ]
  }
 ],
 "metadata": {
  "kernelspec": {
   "display_name": "Python 3",
   "language": "python",
   "name": "python3"
  },
  "language_info": {
   "codemirror_mode": {
    "name": "ipython",
    "version": 3
   },
   "file_extension": ".py",
   "mimetype": "text/x-python",
   "name": "python",
   "nbconvert_exporter": "python",
   "pygments_lexer": "ipython3",
   "version": "3.6.4"
  }
 },
 "nbformat": 4,
 "nbformat_minor": 2
}
