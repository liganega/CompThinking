{
 "cells": [
  {
   "cell_type": "markdown",
   "metadata": {},
   "source": [
    "#### 준비사항\n",
    "\n",
    "파이썬 프로그램을 에디터에서 작성하여 실행하는 방법은 아래 링크에 연결된 사이트에서 자세히 알아볼 수 있다.\n",
    "\n",
    "점프 투 파이썬: https://wikidocs.net/17684"
   ]
  },
  {
   "cell_type": "markdown",
   "metadata": {},
   "source": [
    "# 도형 그리기"
   ]
  },
  {
   "cell_type": "markdown",
   "metadata": {},
   "source": [
    "정삼각형, 정사각형, 정오각형, 정육각형 등을 파이썬을 이용하여 그리고자 한다. \n",
    "또한 임의의 자연수 `n`이 주어졌을 때 정n각형을 그리는 프로그램을 작성한다."
   ]
  },
  {
   "cell_type": "markdown",
   "metadata": {},
   "source": [
    "# 준비사항\n",
    "\n",
    "그림을 그리기 위해 도화지와 붓, 물감 등이 필요하듯이 파이썬으로 그림을 그리려면 동일한 도구가 필요하다."
   ]
  },
  {
   "cell_type": "markdown",
   "metadata": {},
   "source": [
    "### 도화지 준비\n",
    "\n",
    "아래 코드를 파이썬 에디터인 IDLE에 작성한 후 실행하면 도화지 한 장을 확인할 수 있다.\n",
    "\n",
    "#### 주의사항\n",
    "* 파일을 저장할 때 파일이름을 turtle.py 이라고 지으면 안된다.\n",
    "* 여기서는 파이썬에서 turtle 이름은 특수한 역할을 수행하기 때문이라는 점만 기억하면 된다."
   ]
  },
  {
   "cell_type": "markdown",
   "metadata": {},
   "source": [
    "---\n",
    "```python\n",
    "import turtle\n",
    "\n",
    "win = turtle.Screen()\n",
    "```\n",
    "---"
   ]
  },
  {
   "cell_type": "markdown",
   "metadata": {},
   "source": [
    "* `import turtle`\n",
    "    * `turtle` 이라는 그림그리기 관련 도구를 모아 놓은 상자라고 이해하면 된다. \n",
    "    * 그런 도구상자를 전문적으로는 __모듈__이라 부른다. \n",
    "* `turtle.Screen()`\n",
    "    * `turtle` 상자에서 `Screen`이란 도구를 사용한다. \n",
    "    * 도구상자 이름은 항상 함께 사용한다.\n",
    "    * `Screen()`은 도화지를 한 장 준비한다.\n",
    "* `win` \n",
    "    * 준비된 도화지의 이름이다. 이름은 임의로 지정 가능하다. "
   ]
  },
  {
   "cell_type": "markdown",
   "metadata": {},
   "source": [
    "### 붓 준비\n",
    "\n",
    "아래 코드를 파이썬 에디터인 IDLE에 작성한 후 실행하면 도화지 한 장과 붓 역할을 수행하는 거북이 한 마리를 확인할 수 있다."
   ]
  },
  {
   "cell_type": "markdown",
   "metadata": {},
   "source": [
    "---\n",
    "```python\n",
    "import turtle\n",
    "\n",
    "win = turtle.Screen()\n",
    "tuti = turtle.Turtle()\n",
    "```\n",
    "---"
   ]
  },
  {
   "cell_type": "markdown",
   "metadata": {},
   "source": [
    "* `turtle.Turtle()`\n",
    "    * `turtle` 상자에서 `Turtle`이란 도구를 사용한다. \n",
    "    * 도구상자 이름은 항상 함께 사용한다.    \n",
    "    * `Turtle()`은 거북이 한 마리를 생성하여 도화지 한 가운데에 위치시킨다.\n",
    "    * 거북이의 모양은 화살촉 모양이다.\n",
    "* `tuti`\n",
    "    * 생성된 거북이의 이름이다. 이름은 임의로 지정 가능하다."
   ]
  },
  {
   "cell_type": "markdown",
   "metadata": {},
   "source": [
    "### 붓 모양 바꾸기\n",
    "\n",
    "거북이의 기본 모양은 화살촉 모양이다. \n",
    "거북이의 모양을 다양한 형태로 바꿀 수 있다.\n",
    "거북이 모양으로 `arrow`, `turtle`, `circle`, `square`, `triangle`, `classic` 등 여섯 가지이다.\n",
    "예를 들어, `tuti` 모양을 진짜 거북이로 바꾸고 싶으면 거북이의 모양을 아래와 같이 바꾸어야 한다.\n",
    "\n",
    "```python\n",
    "tuti.shape('turtle')\n",
    "```"
   ]
  },
  {
   "cell_type": "markdown",
   "metadata": {},
   "source": [
    "---\n",
    "```python\n",
    "import turtle\n",
    "\n",
    "win = turtle.Screen()\n",
    "tuti = turtle.Turtle()\n",
    "tuti.shape('turtle')\n",
    "```\n",
    "---"
   ]
  },
  {
   "cell_type": "markdown",
   "metadata": {},
   "source": [
    "### 색 선택하기\n",
    "\n",
    "거북이가 그리는 선은 검은색으로 기본 설정되어 있다.\n",
    "하지만 거북이의 모양처럼 색을 지정하여 다른 색을 선택할 수 있다.\n",
    "예를 들어, `tuti`를 이용하여 빨간색 선을 그리고자 한다면 아래와 같이 명령하면 된다.\n",
    "\n",
    "```python\n",
    "tuti.pencolor('red')\n",
    "```\n",
    "\n",
    "#### 주의사항\n",
    "* `pencolor`를 이용하면 사실상 컴픁터에서 사용할 수 있는 모든 색을 지정할 수 있다.\n",
    "* 하지만 여기서는 red, blue, yellow 등 기본적인 색상만 사용하는 것만 기억해도 좋다."
   ]
  },
  {
   "cell_type": "markdown",
   "metadata": {},
   "source": [
    "---\n",
    "```python\n",
    "import turtle\n",
    "\n",
    "win = turtle.Screen()\n",
    "tuti = turtle.Turtle()\n",
    "tuti.shape('turtle')\n",
    "tuti.pencolor('red')\n",
    "```\n",
    "---"
   ]
  },
  {
   "cell_type": "markdown",
   "metadata": {},
   "source": [
    "# 정n각형 그리기"
   ]
  },
  {
   "cell_type": "markdown",
   "metadata": {},
   "source": [
    "이제 준비된 도화지와 붓(거북이)을 이용하여 정삼각형, 정사각형 등을 그려보자."
   ]
  },
  {
   "cell_type": "markdown",
   "metadata": {},
   "source": [
    "## 정삼각형 그리기\n",
    "\n",
    "예를 들어, 한 변의 길이가 100픽셀인 정삼각형을 그려보자.\n",
    "\n",
    "#### 주의사항\n",
    "* 픽셀(pixel): 컴퓨터 상에서 하나의 색으로 이루어진 한 점이 차지하는 공간을 나타냄.\n",
    "* 픽셀 크기는 사용하는 모니터의 해상도에 의존해서 달라진다.\n",
    "* 여기서는 한 점의 색이 차지하는 공간이라는 정도로 이해해도 된다.\n",
    "\n",
    "아래 코드를 IDLE에서 작성한 후 실행하면 한 변의 길이가 100픽셀인 정삼각을 얻는다."
   ]
  },
  {
   "cell_type": "markdown",
   "metadata": {},
   "source": [
    "---\n",
    "```python\n",
    "import turtle\n",
    "\n",
    "win = turtle.Screen()\n",
    "tuti = turtle.Turtle()\n",
    "\n",
    "i = 0\n",
    "\n",
    "while i < 3:\n",
    "    tuti.forward(100)\n",
    "    tuti.left(120)\n",
    "    i = i + 1\n",
    "    \n",
    "win.mainloop()\n",
    "```\n",
    "---"
   ]
  },
  {
   "cell_type": "markdown",
   "metadata": {},
   "source": [
    "* `tuti.forward(100)`: `tuti`를 100픽셀만큼 바라보는 방향으로 전진시키며 동시에 선을 긋도록 한다.\n",
    "* `tuti.left(120)': `tuti`가 바라보는 방향을 왼쪽으로 90도 회전시킨다.\n",
    "* `i = i + 1`: 변수 `i`에 저장되어 있던 값에다 1을 더한 값을 다시 변수 `i`에 저장시킨다.\n",
    "* `while i < 3:`\n",
    "    * 변수 `i`에 저장된 값이 3보다 작으면 들여쓰기 된 부분을 반복해서 실행한다. \n",
    "    * 들여쓰기 부분\n",
    "    ```python\n",
    "    tuti.forward(100)\n",
    "    tuti.left(120)\n",
    "    i = i + 1\n",
    "    ```\n",
    "    * `i = i + 1`에 의해 `while i < 3`에 감싸인 부분이 반복되어 실행될 때마다 `i`의 값이 0에서 시작하여\n",
    "        1씩 커지고 그 값이 3이 되는 순간에 `while i < 3`으로 감싸인 부분이 더 이상 반복되지 않고 그 다음 줄이\n",
    "        실행된다.\n",
    "* `win.mainloop()`\n",
    "    * 생성된 도화지가 X버튼이 눌릴 때까지 사라지지 않도록 한다. "
   ]
  },
  {
   "cell_type": "markdown",
   "metadata": {},
   "source": [
    "<p>\n",
    "<table cellspacing=\"20\">\n",
    "<tr>\n",
    "<td>\n",
    "<img src=\"images/polygon01.png\">\n",
    "</td>\n",
    "</tr>\n",
    "</table>\n",
    "</p>"
   ]
  },
  {
   "cell_type": "markdown",
   "metadata": {},
   "source": [
    "## 정사각형 그리기\n",
    "\n",
    "아래 코드를 IDLE에서 작성한 후 실행하면 한 변의 길이가 100픽셀인 정사각형을 얻는다."
   ]
  },
  {
   "cell_type": "markdown",
   "metadata": {},
   "source": [
    "---\n",
    "```python\n",
    "import turtle\n",
    "\n",
    "win = turtle.Screen()\n",
    "tuti = turtle.Turtle()\n",
    "\n",
    "i = 0\n",
    "\n",
    "while i < 4:\n",
    "    tuti.forward(100)\n",
    "    tuti.left(90)\n",
    "    i = i + 1\n",
    "    \n",
    "win.mainloop()\n",
    "```\n",
    "---"
   ]
  },
  {
   "cell_type": "markdown",
   "metadata": {},
   "source": [
    "<p>\n",
    "<table cellspacing=\"20\">\n",
    "<tr>\n",
    "<td>\n",
    "<img src=\"images/polygon02.png\">\n",
    "</td>\n",
    "</tr>\n",
    "</table>\n",
    "</p>"
   ]
  },
  {
   "cell_type": "markdown",
   "metadata": {},
   "source": [
    "## 정오각형 그리기\n",
    "\n",
    "아래 코드를 IDLE에서 작성한 후 실행하면 한 변의 길이가 100픽셀인 정오각형을 얻는다."
   ]
  },
  {
   "cell_type": "markdown",
   "metadata": {},
   "source": [
    "---\n",
    "```python\n",
    "import turtle\n",
    "\n",
    "win = turtle.Screen()\n",
    "tuti = turtle.Turtle()\n",
    "\n",
    "i = 0\n",
    "\n",
    "while i < 5:\n",
    "    tuti.forward(100)\n",
    "    tuti.left(72)\n",
    "    i = i + 1\n",
    "    \n",
    "win.mainloop()\n",
    "```\n",
    "---"
   ]
  },
  {
   "cell_type": "markdown",
   "metadata": {},
   "source": [
    "<p>\n",
    "<table cellspacing=\"20\">\n",
    "<tr>\n",
    "<td>\n",
    "<img src=\"images/polygon03.png\">\n",
    "</td>\n",
    "</tr>\n",
    "</table>\n",
    "</p>"
   ]
  },
  {
   "cell_type": "markdown",
   "metadata": {},
   "source": [
    "## 정육각형 그리기\n",
    "\n",
    "아래 코드를 IDLE에서 작성한 후 실행하면 한 변의 길이가 100픽셀인 정육각형을 얻는다."
   ]
  },
  {
   "cell_type": "markdown",
   "metadata": {},
   "source": [
    "```python\n",
    "import turtle\n",
    "\n",
    "win = turtle.Screen()\n",
    "tuti = turtle.Turtle()\n",
    "\n",
    "i = 0\n",
    "\n",
    "while i < 6:\n",
    "    tuti.forward(100)\n",
    "    tuti.left(60)\n",
    "    i = i + 1\n",
    "    \n",
    "win.mainloop()\n",
    "```"
   ]
  },
  {
   "cell_type": "markdown",
   "metadata": {},
   "source": [
    "<p>\n",
    "<table cellspacing=\"20\">\n",
    "<tr>\n",
    "<td>\n",
    "<img src=\"images/polygon04.png\">\n",
    "</td>\n",
    "</tr>\n",
    "</table>\n",
    "</p>"
   ]
  },
  {
   "cell_type": "markdown",
   "metadata": {},
   "source": [
    "# 일반화 시키기\n",
    "\n",
    "지금까지 정삼각형, 정사각형, 정오각형, 정육각형을 그리는 프로그램을 각각 작성하였다.\n",
    "하지만 해당 프로그램을 자세히 살펴보면 코드들이 기본적으로 동일하며,\n",
    "단 두 부분만 변한다는 사실을 쉽게 확인 할 수 있다.\n",
    "예를 들어, 정삼각형과 정육각형의 코드를 비교하면 아래 두 부분이 변한다.\n",
    "\n",
    "* 정삼각형인 경우\n",
    "    * 변하는 첫째 부분: `while i < 3:`\n",
    "    * 변하는 둘째 부분: `tuti.left(120)`\n",
    "* 정육각형인 경우\n",
    "    * 변하는 첫째 부분: `while i < 6:`\n",
    "    * 변하는 둘째 부분: `tuti.left(60)`\n",
    "    \n",
    "즉, 전진과 회전이 반복되는 횟수와 회전각도를 지정하는 부분이 몇각형을 그리는가에 의존하여 달라진다.\n",
    "또한 몇각형인가에 대한 정보가 정해지면 반복횟수와 회전각도가 자동으로 정해진다는 것을 논리적으로 생각할 수 있다.\n",
    "따라서 그리고자 하는 도형이 몇각형이지를 정하고, 정한 값에 따라 반복횟수와 회전각도를 지정할 수 있도록 프로그램을 \n",
    "작성하면 하나의 프로그램으로 원하는 도형을 쉽게 구할 수 있을 것이다.\n",
    "\n",
    "이러한 프로그램을 작성하려면 몇각형인지를 기억하는 장치가 필요하며 이를 위해 하나의 변수를 사용하면 된다.\n",
    "아래 코드에서는 변수 `n`이 몇각형인지를 기억하도록 만들었다.\n",
    "\n",
    "달라진 부분은 다음과 같다.\n",
    "* 변수 `n` 지정: `n = 6` (정육각형을 그리는 경우)\n",
    "* 반복횟수를 `n`으로 지정: `while i < n:`\n",
    "* 회전각도를 `n`에 의존하게 만듦: `tuti.left(360/n)`\n",
    "\n",
    "정n각형을 그리기 위해 진행방향을 기준으로 왼쪽으로 `360/n`도 회전해야 한다는 사실은 아래 사실로부터 논리적으로 이끌어낼 수 있다.\n",
    "\n",
    "* 2차원 평면에서 한 점을 중심으로 한 바뀌는 360도이다.\n",
    "* n각형을 그리기 위해서는 n번 회전해야 한다."
   ]
  },
  {
   "cell_type": "markdown",
   "metadata": {},
   "source": [
    "---\n",
    "```python\n",
    "import turtle\n",
    "\n",
    "win = turtle.Screen()\n",
    "tuti = turtle.Turtle()\n",
    "\n",
    "n = 6\n",
    "i = 0\n",
    "\n",
    "while i < n:\n",
    "    tuti.forward(100)\n",
    "    tuti.left(360/n)\n",
    "    i = i + 1\n",
    "    \n",
    "win.mainloop()\n",
    "```\n",
    "---"
   ]
  },
  {
   "cell_type": "markdown",
   "metadata": {},
   "source": [
    "이제 정삼각형과 정육각을 그리는 프로그램을 굳이 두 개 작성할 필요가 없다. \n",
    "정삼각형을 그리기 위해서는 `n = 3`으로 지정하기만 하면 되기 때문이다."
   ]
  }
 ],
 "metadata": {
  "kernelspec": {
   "display_name": "Python 3",
   "language": "python",
   "name": "python3"
  },
  "language_info": {
   "codemirror_mode": {
    "name": "ipython",
    "version": 3
   },
   "file_extension": ".py",
   "mimetype": "text/x-python",
   "name": "python",
   "nbconvert_exporter": "python",
   "pygments_lexer": "ipython3",
   "version": "3.6.3"
  }
 },
 "nbformat": 4,
 "nbformat_minor": 2
}
