{
 "cells": [
  {
   "cell_type": "markdown",
   "metadata": {},
   "source": [
    "#### 준비사항\n",
    "\n",
    "파이썬 프로그램을 에디터에서 작성하여 실행하는 방법은 아래 링크에 연결된 사이트에서 자세히 알아볼 수 있다.\n",
    "\n",
    "점프 투 파이썬: https://wikidocs.net/17684"
   ]
  },
  {
   "cell_type": "markdown",
   "metadata": {},
   "source": [
    "# 함수활용"
   ]
  },
  {
   "cell_type": "markdown",
   "metadata": {},
   "source": [
    "점차 복잡해지는 코드를 간결하게 정리하여 재활용하는 기술인 함수사용법을 소개한다."
   ]
  },
  {
   "cell_type": "markdown",
   "metadata": {},
   "source": [
    "## 이전에 배운 내용: 다각형 그리기"
   ]
  },
  {
   "cell_type": "markdown",
   "metadata": {},
   "source": [
    "앞서 n각형을 그리는 거북이 프로그램을 아래와 같이 작성하였다."
   ]
  },
  {
   "cell_type": "markdown",
   "metadata": {},
   "source": [
    "---\n",
    "```python\n",
    "import turtle\n",
    "\n",
    "win = turtle.Screen()\n",
    "tuti = turtle.Turtle()\n",
    "\n",
    "n = 6\n",
    "i = 0\n",
    "\n",
    "while i < n:\n",
    "    tuti.forward(100)\n",
    "    tuti.left(360/n)\n",
    "    i = i + 1\n",
    "    \n",
    "win.mainloop()\n",
    "```\n",
    "---"
   ]
  },
  {
   "cell_type": "markdown",
   "metadata": {},
   "source": [
    "위 코드의 장점은 변수 `n`에 저장된 값을 변경하면 지정된 n각형을 그린다는 것이다. \n",
    "반면에, 여러 개의 다각형을 그리기 위해서는 매번 `n`의 값을 수동으로 변경해야 하며, \n",
    "따라서 동시에 두 개의 다각형을 그릴 수는 없다는 한계를 같는다.\n",
    "\n",
    "물론 아래와 같이 코드복사를 이용하여 아래와 같이 5각형과 6각형을 동시에 그리는 코드를 작성할 수는 있다."
   ]
  },
  {
   "cell_type": "markdown",
   "metadata": {},
   "source": [
    "---\n",
    "```python\n",
    "import turtle\n",
    "\n",
    "win = turtle.Screen()\n",
    "tuti = turtle.Turtle()\n",
    "\n",
    "# 5각형 그리기\n",
    "n = 5\n",
    "i = 0\n",
    "\n",
    "while i < n:\n",
    "    tuti.forward(100)\n",
    "    tuti.left(360/n)\n",
    "    i = i + 1\n",
    "\n",
    "# 이어서 그리는 도형이 겹치지 않도록 거북이를 반대방향으로 향하게 한다.\n",
    "# 또한 도형을 구분하기 위해 펜의 색깔도 빨간색으로 변경한다.\n",
    "tuti.left(180)\n",
    "tuti.pencolor('red')\n",
    "\n",
    "# 6각형 그리기\n",
    "n = 6\n",
    "i = 0\n",
    "\n",
    "while i < n:\n",
    "    tuti.forward(100)\n",
    "    tuti.left(360/n)\n",
    "    i = i + 1\n",
    "\n",
    "win.mainloop()\n",
    "```\n",
    "---"
   ]
  },
  {
   "cell_type": "markdown",
   "metadata": {},
   "source": [
    "<p>\n",
    "<table cellspacing=\"20\">\n",
    "<tr>\n",
    "<td>\n",
    "<img src=\"images/polygon06.png\">\n",
    "</td>\n",
    "</tr>\n",
    "</table>\n",
    "</p>"
   ]
  },
  {
   "cell_type": "markdown",
   "metadata": {},
   "source": [
    "그런데 다각형을 3개, 4개, 5개, ... 100개 드리고자 한다면 너무나 불편하고 위험하다.\n",
    "그런데 위 코드를 잘 살펴보면 결국은 `n` 변수의 값만 변경되면 원하는 다각형을 얻게된다.\n",
    "이런 경우를 위해 **함수**라는 것을 활용할 수 있다.\n",
    "\n",
    "함수는 쉽게 말해서 특정 일을 하는 코드의 일부에 이름을 지정하는 것이다.\n",
    "예를 들어, `n`각형을 그리는 코드에 `polygon`이란 이름을 아래와 같이 줄 수 있다."
   ]
  },
  {
   "cell_type": "markdown",
   "metadata": {},
   "source": [
    "---\n",
    "```python\n",
    "def polygon(n):\n",
    "    i = 0\n",
    "    while i < n:\n",
    "        tuti.forward(100)\n",
    "        tuti.left(360/n)\n",
    "        i = i + 1\n",
    "```\n",
    "---"
   ]
  },
  {
   "cell_type": "markdown",
   "metadata": {},
   "source": [
    "#### 주의사항\n",
    "* 함수를 선언하는 방식은 다음과 같다.\n",
    "```python\n",
    "def 함수이름(매개변수1, 매개변수2, ...):\n",
    "    함수본문\n",
    "```\n",
    "* 함수이름은 원하는 대로 지어도 된다. \n",
    "    이름을 지을 때에 따라야 하는 몇 가지 규칙이 있지만 여기서는 별로 중요하지 않다. \n",
    "* 매개변수는 필요한 만큼 지정해야 한다. 물론 없어도 된다.\n",
    "    매개변수의 이름은 임의로 지정할 수 있다.\n",
    "* 매개변수들과 닫는 괄호 뒤에는 반드시 콜론(`:`)을 사용해야 한다.\n",
    "* 함수본문은 반드시 들여쓰기 해야 하며 들여쓰기 정도가 일치해야 한다.\n",
    "    보통 탭(tab)을 사용한다.\n",
    "* 이와같이 이름을 붙일 수 있는 코드의 일부를 **프로세스**라고 부른다.\n",
    "    즉, 함수는 이름이 붙은 프로세스이다."
   ]
  },
  {
   "cell_type": "markdown",
   "metadata": {},
   "source": [
    "`polygon` 함수의 정의를 설명하면 다음과 같다.\n",
    "* 함수의 이름은 `polygon`이다.\n",
    "* 매개변수는 하나이며 변수의 이름은 `n`이다.\n",
    "* `polygon` 함수의 본문은 매개변수 `n`의 값이 지정되면 `n`각형을 그리는 코드이다."
   ]
  },
  {
   "cell_type": "markdown",
   "metadata": {},
   "source": [
    "이제 `polygon` 함수를 사용하여 5각형과 6각형을 함께 그리는 코드를 아래와 같이 작성할 수 있다."
   ]
  },
  {
   "cell_type": "markdown",
   "metadata": {},
   "source": [
    "---\n",
    "```python\n",
    "import turtle\n",
    "\n",
    "win = turtle.Screen()\n",
    "tuti = turtle.Turtle()\n",
    "\n",
    "# polygon 함수 정의\n",
    "def polygon(n):\n",
    "    i = 0\n",
    "\n",
    "    while i < n:\n",
    "        tuti.forward(100)\n",
    "        tuti.left(360/n)\n",
    "        i = i + 1\n",
    "\n",
    "# 5각형 그리기\n",
    "polygon(5)\n",
    "\n",
    "# 이어서 그리는 도형이 겹치지 않도록 거북이를 반대방향으로 향하게 한다.\n",
    "# 또한 도형을 구분하기 위해 펜의 색깔도 빨간색으로 변경한다.\n",
    "tuti.left(180)\n",
    "tuti.pencolor('red')\n",
    "\n",
    "# 6각형 그리기\n",
    "polygon(6)\n",
    "\n",
    "win.mainloop()\n",
    "```\n",
    "---"
   ]
  }
 ],
 "metadata": {
  "kernelspec": {
   "display_name": "Python 3",
   "language": "python",
   "name": "python3"
  },
  "language_info": {
   "codemirror_mode": {
    "name": "ipython",
    "version": 3
   },
   "file_extension": ".py",
   "mimetype": "text/x-python",
   "name": "python",
   "nbconvert_exporter": "python",
   "pygments_lexer": "ipython3",
   "version": "3.6.4"
  }
 },
 "nbformat": 4,
 "nbformat_minor": 2
}
